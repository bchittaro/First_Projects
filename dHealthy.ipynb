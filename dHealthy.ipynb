{
 "cells": [
  {
   "cell_type": "code",
   "execution_count": 1,
   "metadata": {},
   "outputs": [],
   "source": [
    "import re\n",
    "#import numpy as np\n",
    "import pandas as pd\n",
    "#import matplotlib.pyplot as plt\n",
    "from utils.soup import getSoup\n",
    "import importlib"
   ]
  },
  {
   "cell_type": "code",
   "execution_count": 2,
   "metadata": {},
   "outputs": [],
   "source": [
    "def makeURL(text):\n",
    "    return (text.lower()).replace(\" \", \"-\")\n",
    "\n",
    "dHalls = [\"South Quad\", \"North Quad\", \"East Quad\", \"Bursley\", \"Mosher Jordan\", \"Twigs at Oxford\", \"Markley\"]\n",
    "dURLS = [makeURL(x) for x in dHalls]"
   ]
  },
  {
   "cell_type": "code",
   "execution_count": 3,
   "metadata": {},
   "outputs": [],
   "source": [
    "import dataAq\n",
    "importlib.reload(dataAq)\n",
    "diningData = []\n",
    "for hall in dHalls:\n",
    "    diningData.append(dataAq.getFrame(makeURL(hall)))\n"
   ]
  },
  {
   "cell_type": "code",
   "execution_count": 6,
   "metadata": {},
   "outputs": [
    {
     "name": "stdout",
     "output_type": "stream",
     "text": [
      "bread in Dining Halls check:\n",
      "South Quad:\n",
      "                   Food  Calories  Course\n",
      "46         Banana Bread       176  Brunch\n",
      "79  Cracked Wheat Bread        38  Dinner\n",
      "\n",
      "North Quad:\n",
      "                         Food  Calories  Course\n",
      "7   Pepperoni Flatbread Pizza       135  Brunch\n",
      "8      Cheese Flatbread Pizza       118  Brunch\n",
      "10               Banana Bread       176  Brunch\n",
      "\n",
      "East Quad:\n",
      "                              Food  Calories  Course\n",
      "26                    Cheese Bread       179  Brunch\n",
      "42  Mushroom Chive Flatbread Pizza       198  Dinner\n",
      "43                    Cheese Bread       179  Dinner\n",
      "\n",
      "Bursley:\n",
      "            Food  Calories     Course\n",
      "6   Banana Bread       176  Breakfast\n",
      "23  Cheese Bread       179     Brunch\n",
      "28  Banana Bread       176     Brunch\n",
      "40  Cheese Bread       179     Dinner\n",
      "\n",
      "Mosher Jordan:\n",
      "                          Food  Calories  Course\n",
      "24  Cinnamon Sugar Breadsticks       184  Brunch\n",
      "33                Banana Bread       176  Brunch\n",
      "48                Cheese Bread       179  Dinner\n",
      "\n",
      "Twigs at Oxford:\n",
      "            Food  Calories  Course\n",
      "34  Banana Bread       176  Brunch\n",
      "\n",
      "Markley:\n",
      "           Food  Calories  Course\n",
      "7  Banana Bread       176  Brunch\n",
      "\n"
     ]
    }
   ],
   "source": [
    "import DFrame\n",
    "importlib.reload(DFrame)\n",
    "\n",
    "diningFrames = []\n",
    "for i in range(len(diningData)):\n",
    "    diningFrames.append(DFrame.dFrame(diningData[i], dHalls[i]))\n",
    "\n",
    "\n",
    "foodCheck = \"bread\"\n",
    "print(foodCheck + \" in Dining Halls check:\")\n",
    "for hall in diningFrames:\n",
    "    hall.search(foodCheck)\n",
    "    \n"
   ]
  },
  {
   "cell_type": "code",
   "execution_count": null,
   "metadata": {},
   "outputs": [],
   "source": []
  }
 ],
 "metadata": {
  "kernelspec": {
   "display_name": "venv",
   "language": "python",
   "name": "python3"
  },
  "language_info": {
   "codemirror_mode": {
    "name": "ipython",
    "version": 3
   },
   "file_extension": ".py",
   "mimetype": "text/x-python",
   "name": "python",
   "nbconvert_exporter": "python",
   "pygments_lexer": "ipython3",
   "version": "3.8.10"
  },
  "orig_nbformat": 4,
  "vscode": {
   "interpreter": {
    "hash": "05b82387664f7fc3f0db496e939d55d50fd70c9cf3c8e2770491b7697b3d160b"
   }
  }
 },
 "nbformat": 4,
 "nbformat_minor": 2
}
